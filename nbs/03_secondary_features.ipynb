{
 "cells": [
  {
   "cell_type": "code",
   "execution_count": 6,
   "metadata": {},
   "outputs": [],
   "source": [
    "import numpy as np\n",
    "import pandas as pd\n",
    "import os\n",
    "from pathlib import Path\n",
    "import gc\n",
    "import multiprocessing\n",
    "from joblib import Parallel, delayed\n",
    "from tqdm import tqdm\n",
    "\n",
    "from typing import Union, List, Tuple, Optional, Dict, Any\n",
    "import cudf\n",
    "import numba\n",
    "from numba import cuda\n",
    "\n",
    "import itertools\n",
    "\n",
    "from signalslite.data_utils import (\n",
    "    load_recent_data_from_file,\n",
    "    save_daily_data,\n",
    "    save_in_folders,\n",
    "    get_latest_date,\n",
    "    read_available_dates,\n",
    ")\n",
    "from signalslite.constants import DAILY_DATA_DIR, DATA_DIR, DAILY_PRIMARY_FEATURES_DIR, DAILY_SECONDARY_FEATURES_DIR\n"
   ]
  },
  {
   "cell_type": "code",
   "execution_count": 13,
   "metadata": {},
   "outputs": [
    {
     "name": "stdout",
     "output_type": "stream",
     "text": [
      "data folder already exists\n"
     ]
    }
   ],
   "source": [
    "if \"data\" in os.listdir(\".\"):\n",
    "    print(\"data folder already exists\")\n",
    "    DAILY_DATA_DIR = DATA_DIR / DAILY_DATA_DIR\n",
    "    DAILY_DATA_DIR = \"..\" / DAILY_DATA_DIR\n",
    "    DAILY_PRIMARY_FEATURES_DIR = \"..\" / DAILY_PRIMARY_FEATURES_DIR\n",
    "    DAILY_SECONDARY_FEATURES_DIR = \"..\" / DAILY_SECONDARY_FEATURES_DIR"
   ]
  },
  {
   "cell_type": "code",
   "execution_count": 4,
   "metadata": {},
   "outputs": [],
   "source": [
    "def get_combination_ratio(df: Union[pd.DataFrame, cudf.DataFrame], feature_prefix: str):\n",
    "    # fetch feature_name and its combination ratio\n",
    "\n",
    "    feature_cols = [f for f in df.columns if feature_prefix in f]\n",
    "    feature_pairs = itertools.combinations(feature_cols, 2)\n",
    "\n",
    "    _feature_list = []\n",
    "    for _f1, _f2 in feature_pairs:\n",
    "        _feature_type = _f1.split(\"_\")[2]  # sma, ema, macd, rsi, etc.\n",
    "        _f1_window_size = _f1.split(\"_\")[-1]  # window size 1\n",
    "        _f2_window_size = _f2.split(\"_\")[-1]  # window size 2\n",
    "\n",
    "        _res = 1 - (df[_f2] / df[_f1])\n",
    "        _res.name = (\n",
    "            f\"feature_2_ratio_{_feature_type}_{_f1_window_size}_{_f2_window_size}\"\n",
    "        )\n",
    "\n",
    "        _feature_list.append(_res)\n",
    "\n",
    "        gc.collect()\n",
    "\n",
    "    # ratio with close price for each feature\n",
    "    for _f in feature_cols:\n",
    "        _feature_type = _f.split(\"_\")[2]\n",
    "        _f_window_size = _f.split(\"_\")[-1]\n",
    "\n",
    "        _res = 1 - (df[\"close\"] / df[_f])\n",
    "        _res.name = f\"feature_2_ratio_{_feature_type}_{_f_window_size}_close\"\n",
    "\n",
    "        _feature_list.append(_res)\n",
    "\n",
    "        gc.collect()\n",
    "\n",
    "    _cated_res = pd.concat(_feature_list, axis=1).astype(\"float32\")\n",
    "\n",
    "    del _feature_list\n",
    "    gc.collect()\n",
    "\n",
    "    return _cated_res"
   ]
  },
  {
   "cell_type": "code",
   "execution_count": 5,
   "metadata": {},
   "outputs": [],
   "source": [
    "feature_prefixes = [\n",
    "    \"feature_1_sma\",\n",
    "    \"feature_1_ema\",\n",
    "    \"feature_1_rsi\",\n",
    "]\n",
    "\n",
    "\n",
    "def calculate_all_secondary_features(\n",
    "    df: Union[pd.DataFrame, cudf.DataFrame], feature_prefixes: List[str]\n",
    "):\n",
    "    _all_features = []\n",
    "    for feature_prefix in feature_prefixes:\n",
    "        _features = [f for f in df.columns if feature_prefix in f]\n",
    "        _res = get_combination_ratio(df.loc[:, _features + [\"close\"]], feature_prefix)\n",
    "        _all_features.append(_res)\n",
    "        gc.collect()\n",
    "\n",
    "    _all_features = pd.concat(_all_features, axis=1).astype(\"float32\")\n",
    "    return _all_features\n"
   ]
  },
  {
   "cell_type": "code",
   "execution_count": 17,
   "metadata": {},
   "outputs": [
    {
     "name": "stdout",
     "output_type": "stream",
     "text": [
      "primary_dates: 6123\n",
      "secondary_features_dates: 6117\n",
      "n_days_to_load: 16\n"
     ]
    }
   ],
   "source": [
    "if os.path.exists(DAILY_SECONDARY_FEATURES_DIR):\n",
    "    primary_data_dates = read_available_dates(DAILY_PRIMARY_FEATURES_DIR)\n",
    "    print(f\"primary_dates: {len(primary_data_dates)}\")\n",
    "    secondary_data_dates = read_available_dates(DAILY_SECONDARY_FEATURES_DIR)\n",
    "    print(f\"secondary_features_dates: {len(secondary_data_dates)}\")\n",
    "\n",
    "    n_days_to_load = len(primary_data_dates) - len(secondary_data_dates) + 10\n",
    "\n",
    "    print(f\"n_days_to_load: {n_days_to_load}\")"
   ]
  },
  {
   "cell_type": "code",
   "execution_count": 22,
   "metadata": {},
   "outputs": [
    {
     "name": "stdout",
     "output_type": "stream",
     "text": [
      "primary_dates: 6123\n",
      "secondary_features_dates: 6123\n",
      "n_days_to_load: 10\n"
     ]
    },
    {
     "name": "stderr",
     "output_type": "stream",
     "text": [
      "  0%|          | 0/1 [00:00<?, ?it/s]"
     ]
    },
    {
     "name": "stdout",
     "output_type": "stream",
     "text": [
      "5123\n"
     ]
    },
    {
     "name": "stderr",
     "output_type": "stream",
     "text": [
      "100%|██████████| 1000/1000 [00:01<00:00, 556.29it/s]\n",
      "100%|██████████| 1/1 [00:23<00:00, 23.02s/it]\n"
     ]
    }
   ],
   "source": [
    "def load_process_save():\n",
    "    feature_prefixes = [\n",
    "        \"feature_1_sma\",\n",
    "        \"feature_1_ema\",\n",
    "        \"feature_1_rsi\",\n",
    "    ]\n",
    "\n",
    "    dates = []\n",
    "    start_index = 0\n",
    "\n",
    "    if os.path.exists(DAILY_SECONDARY_FEATURES_DIR):\n",
    "        primary_data_dates = read_available_dates(DAILY_PRIMARY_FEATURES_DIR)\n",
    "        print(f\"primary_dates: {len(primary_data_dates)}\")\n",
    "        secondary_data_dates = read_available_dates(DAILY_SECONDARY_FEATURES_DIR)\n",
    "        print(f\"secondary_features_dates: {len(secondary_data_dates)}\")\n",
    "\n",
    "        n_days_to_load = len(primary_data_dates) - len(secondary_data_dates) + 10\n",
    "\n",
    "        print(f\"n_days_to_load: {n_days_to_load}\")\n",
    "\n",
    "        dates = primary_data_dates\n",
    "        start_index = len(secondary_data_dates) - 1000\n",
    "\n",
    "    # iterate over all dates in chunks of 200\n",
    "    for i in tqdm(range(start_index, len(dates), 1000)):\n",
    "        print(i)\n",
    "        _df = load_recent_data_from_file(\n",
    "            DAILY_PRIMARY_FEATURES_DIR,\n",
    "            n_days=1000,\n",
    "            ascending=True,\n",
    "            offset=i,\n",
    "            dtype=\"float32\",\n",
    "        )\n",
    "\n",
    "        feat_cols = [f for f in _df if \"feature_\" in f]\n",
    "\n",
    "        _res = calculate_all_secondary_features(_df, feature_prefixes).astype(\"float32\")\n",
    "\n",
    "        # combine primary and secondary featuers\n",
    "        _res = pd.concat([_df, _res], axis=1)\n",
    "        _res = _res.replace([np.inf, -np.inf], np.nan)\n",
    "        _res = _res.dropna(axis=0)\n",
    "\n",
    "        assert (\n",
    "            _res.isna().mean().sort_values(ascending=False).max() < 0.1\n",
    "        ), \"too many NaN values found\"\n",
    "        save_in_folders(_res, DAILY_SECONDARY_FEATURES_DIR)\n",
    "\n",
    "        # del _df, _res\n",
    "        gc.collect()\n",
    "\n",
    "\n",
    "load_process_save()\n"
   ]
  },
  {
   "cell_type": "code",
   "execution_count": null,
   "metadata": {},
   "outputs": [],
   "source": []
  },
  {
   "cell_type": "code",
   "execution_count": null,
   "metadata": {},
   "outputs": [],
   "source": []
  }
 ],
 "metadata": {
  "kernelspec": {
   "display_name": "rapids",
   "language": "python",
   "name": "python3"
  },
  "language_info": {
   "codemirror_mode": {
    "name": "ipython",
    "version": 3
   },
   "file_extension": ".py",
   "mimetype": "text/x-python",
   "name": "python",
   "nbconvert_exporter": "python",
   "pygments_lexer": "ipython3",
   "version": "3.8.16"
  },
  "orig_nbformat": 4
 },
 "nbformat": 4,
 "nbformat_minor": 2
}
