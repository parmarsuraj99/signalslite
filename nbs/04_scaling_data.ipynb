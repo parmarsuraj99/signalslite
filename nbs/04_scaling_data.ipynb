{
 "cells": [
  {
   "cell_type": "code",
   "execution_count": 1,
   "metadata": {},
   "outputs": [],
   "source": [
    "import pandas as pd\n",
    "import os\n",
    "from pathlib import Path\n",
    "import gc\n",
    "import multiprocessing\n",
    "from joblib import Parallel, delayed\n",
    "from tqdm import tqdm\n",
    "\n",
    "import cudf\n",
    "import numba\n",
    "from numba import cuda\n",
    "import numpy as np\n",
    "\n",
    "# parallelize the process on all columns using joblib\n",
    "import multiprocessing\n",
    "from joblib import Parallel, delayed\n",
    "from tqdm import tqdm\n",
    "\n",
    "from src.data_utils import (\n",
    "    load_recent_data_from_file,\n",
    "    save_daily_data,\n",
    "    save_in_folders,\n",
    "    get_latest_date,\n",
    "    read_available_dates\n",
    ")\n",
    "from src.config import (\n",
    "    DAILY_DATA_DIR,\n",
    "    DATA_DIR,\n",
    "    DAILY_PRIMARY_FEATURES_DIR,\n",
    "    DAILY_SECONDARY_FEATURES_DIR,\n",
    "    DAILY_SCALED_FEATURES_DIR,\n",
    ")\n"
   ]
  },
  {
   "cell_type": "code",
   "execution_count": 2,
   "metadata": {},
   "outputs": [],
   "source": [
    "FROM_SCRATCH = True"
   ]
  },
  {
   "cell_type": "code",
   "execution_count": 9,
   "metadata": {},
   "outputs": [],
   "source": [
    "def apply_cut(df, cols):\n",
    "    _res = Parallel(\n",
    "        n_jobs=10,\n",
    "    )(delayed(pd.qcut)(df[col], q=5, labels=False, duplicates=\"drop\") for col in cols)\n",
    "    _res = pd.concat(_res, axis=1).astype(\"int8\")\n",
    "    #print(_res)\n",
    "    assert abs(_res[\"feature_2_ratio_rsi_50_close\"].mean() - 2) < 0.05, \"mean should be 2\"\n",
    "    return _res\n",
    "\n",
    "\n",
    "def apply_cut_cpu(recent_data, feature_columns):\n",
    "    recent_data = recent_data.dropna(subset=feature_columns, axis=0)\n",
    "    recent_data_gpu = cudf.DataFrame.from_pandas(recent_data)\n",
    "\n",
    "    ranks = (\n",
    "        recent_data_gpu[[\"date\"] + feature_columns]\n",
    "        .groupby(\"date\")\n",
    "        .rank(pct=True, method=\"first\", ascending=True, na_option=\"keep\")\n",
    "    )\n",
    "    ranks[\"date\"] = recent_data[\"date\"]\n",
    "    ranks[\"bloomberg_ticker\"] = recent_data[\"bloomberg_ticker\"]\n",
    "\n",
    "    ranks_pd = ranks.to_pandas()\n",
    "\n",
    "    del recent_data_gpu, ranks\n",
    "\n",
    "    res = ranks_pd.groupby(\"date\").apply(lambda df: apply_cut(df, feature_columns))\n",
    "    res[\"date\"] = ranks_pd[\"date\"]\n",
    "    res[\"bloomberg_ticker\"] = ranks_pd[\"bloomberg_ticker\"]\n",
    "\n",
    "    return res\n"
   ]
  },
  {
   "cell_type": "code",
   "execution_count": 10,
   "metadata": {},
   "outputs": [
    {
     "name": "stderr",
     "output_type": "stream",
     "text": [
      "  0%|          | 0/31 [00:00<?, ?it/s]"
     ]
    },
    {
     "name": "stdout",
     "output_type": "stream",
     "text": [
      "0\n",
      "2000-01-04 00:00:00 2000-10-09 00:00:00\n"
     ]
    },
    {
     "name": "stderr",
     "output_type": "stream",
     "text": [
      "/tmp/ipykernel_12372/3885321339.py:27: FutureWarning: Not prepending group keys to the result index of transform-like apply. In the future, the group keys will be included in the index, regardless of whether the applied function returns a like-indexed object.\n",
      "To preserve the previous behavior, use\n",
      "\n",
      "\t>>> .groupby(..., group_keys=False)\n",
      "\n",
      "To adopt the future behavior and silence this warning, use \n",
      "\n",
      "\t>>> .groupby(..., group_keys=True)\n",
      "  res = ranks_pd.groupby(\"date\").apply(lambda df: apply_cut(df, feature_columns))\n",
      "100%|██████████| 200/200 [00:00<00:00, 323.31it/s]\n",
      "  3%|▎         | 1/31 [00:15<07:38, 15.28s/it]"
     ]
    },
    {
     "name": "stdout",
     "output_type": "stream",
     "text": [
      "200\n",
      "2000-10-10 00:00:00 2001-07-18 00:00:00\n"
     ]
    },
    {
     "name": "stderr",
     "output_type": "stream",
     "text": [
      "/tmp/ipykernel_12372/3885321339.py:27: FutureWarning: Not prepending group keys to the result index of transform-like apply. In the future, the group keys will be included in the index, regardless of whether the applied function returns a like-indexed object.\n",
      "To preserve the previous behavior, use\n",
      "\n",
      "\t>>> .groupby(..., group_keys=False)\n",
      "\n",
      "To adopt the future behavior and silence this warning, use \n",
      "\n",
      "\t>>> .groupby(..., group_keys=True)\n",
      "  res = ranks_pd.groupby(\"date\").apply(lambda df: apply_cut(df, feature_columns))\n",
      "100%|██████████| 200/200 [00:00<00:00, 340.09it/s]\n",
      "  6%|▋         | 2/31 [00:38<09:46, 20.23s/it]"
     ]
    },
    {
     "name": "stdout",
     "output_type": "stream",
     "text": [
      "400\n",
      "2001-07-19 00:00:00 2002-04-25 00:00:00\n"
     ]
    },
    {
     "name": "stderr",
     "output_type": "stream",
     "text": [
      "/tmp/ipykernel_12372/3885321339.py:27: FutureWarning: Not prepending group keys to the result index of transform-like apply. In the future, the group keys will be included in the index, regardless of whether the applied function returns a like-indexed object.\n",
      "To preserve the previous behavior, use\n",
      "\n",
      "\t>>> .groupby(..., group_keys=False)\n",
      "\n",
      "To adopt the future behavior and silence this warning, use \n",
      "\n",
      "\t>>> .groupby(..., group_keys=True)\n",
      "  res = ranks_pd.groupby(\"date\").apply(lambda df: apply_cut(df, feature_columns))\n",
      "100%|██████████| 200/200 [00:00<00:00, 319.69it/s]\n",
      " 10%|▉         | 3/31 [01:02<10:07, 21.69s/it]"
     ]
    },
    {
     "name": "stdout",
     "output_type": "stream",
     "text": [
      "600\n",
      "2002-04-26 00:00:00 2003-01-31 00:00:00\n"
     ]
    },
    {
     "name": "stderr",
     "output_type": "stream",
     "text": [
      "/tmp/ipykernel_12372/3885321339.py:27: FutureWarning: Not prepending group keys to the result index of transform-like apply. In the future, the group keys will be included in the index, regardless of whether the applied function returns a like-indexed object.\n",
      "To preserve the previous behavior, use\n",
      "\n",
      "\t>>> .groupby(..., group_keys=False)\n",
      "\n",
      "To adopt the future behavior and silence this warning, use \n",
      "\n",
      "\t>>> .groupby(..., group_keys=True)\n",
      "  res = ranks_pd.groupby(\"date\").apply(lambda df: apply_cut(df, feature_columns))\n",
      "100%|██████████| 200/200 [00:00<00:00, 291.94it/s]\n",
      " 13%|█▎        | 4/31 [01:26<10:09, 22.59s/it]"
     ]
    },
    {
     "name": "stdout",
     "output_type": "stream",
     "text": [
      "800\n",
      "2003-02-03 00:00:00 2003-11-07 00:00:00\n"
     ]
    },
    {
     "name": "stderr",
     "output_type": "stream",
     "text": [
      "/tmp/ipykernel_12372/3885321339.py:27: FutureWarning: Not prepending group keys to the result index of transform-like apply. In the future, the group keys will be included in the index, regardless of whether the applied function returns a like-indexed object.\n",
      "To preserve the previous behavior, use\n",
      "\n",
      "\t>>> .groupby(..., group_keys=False)\n",
      "\n",
      "To adopt the future behavior and silence this warning, use \n",
      "\n",
      "\t>>> .groupby(..., group_keys=True)\n",
      "  res = ranks_pd.groupby(\"date\").apply(lambda df: apply_cut(df, feature_columns))\n",
      "100%|██████████| 200/200 [00:00<00:00, 276.14it/s]\n",
      " 16%|█▌        | 5/31 [01:51<10:12, 23.56s/it]"
     ]
    },
    {
     "name": "stdout",
     "output_type": "stream",
     "text": [
      "1000\n",
      "2003-11-10 00:00:00 2004-08-16 00:00:00\n"
     ]
    },
    {
     "name": "stderr",
     "output_type": "stream",
     "text": [
      "/tmp/ipykernel_12372/3885321339.py:27: FutureWarning: Not prepending group keys to the result index of transform-like apply. In the future, the group keys will be included in the index, regardless of whether the applied function returns a like-indexed object.\n",
      "To preserve the previous behavior, use\n",
      "\n",
      "\t>>> .groupby(..., group_keys=False)\n",
      "\n",
      "To adopt the future behavior and silence this warning, use \n",
      "\n",
      "\t>>> .groupby(..., group_keys=True)\n",
      "  res = ranks_pd.groupby(\"date\").apply(lambda df: apply_cut(df, feature_columns))\n",
      "100%|██████████| 200/200 [00:00<00:00, 300.72it/s]\n",
      " 19%|█▉        | 6/31 [02:16<10:00, 24.03s/it]"
     ]
    },
    {
     "name": "stdout",
     "output_type": "stream",
     "text": [
      "1200\n",
      "2004-08-17 00:00:00 2005-05-23 00:00:00\n"
     ]
    },
    {
     "name": "stderr",
     "output_type": "stream",
     "text": [
      "/tmp/ipykernel_12372/3885321339.py:27: FutureWarning: Not prepending group keys to the result index of transform-like apply. In the future, the group keys will be included in the index, regardless of whether the applied function returns a like-indexed object.\n",
      "To preserve the previous behavior, use\n",
      "\n",
      "\t>>> .groupby(..., group_keys=False)\n",
      "\n",
      "To adopt the future behavior and silence this warning, use \n",
      "\n",
      "\t>>> .groupby(..., group_keys=True)\n",
      "  res = ranks_pd.groupby(\"date\").apply(lambda df: apply_cut(df, feature_columns))\n",
      "100%|██████████| 200/200 [00:00<00:00, 270.30it/s]\n",
      " 23%|██▎       | 7/31 [02:42<09:52, 24.69s/it]"
     ]
    },
    {
     "name": "stdout",
     "output_type": "stream",
     "text": [
      "1400\n",
      "2005-05-24 00:00:00 2006-02-27 00:00:00\n"
     ]
    },
    {
     "name": "stderr",
     "output_type": "stream",
     "text": [
      "/tmp/ipykernel_12372/3885321339.py:27: FutureWarning: Not prepending group keys to the result index of transform-like apply. In the future, the group keys will be included in the index, regardless of whether the applied function returns a like-indexed object.\n",
      "To preserve the previous behavior, use\n",
      "\n",
      "\t>>> .groupby(..., group_keys=False)\n",
      "\n",
      "To adopt the future behavior and silence this warning, use \n",
      "\n",
      "\t>>> .groupby(..., group_keys=True)\n",
      "  res = ranks_pd.groupby(\"date\").apply(lambda df: apply_cut(df, feature_columns))\n",
      "100%|██████████| 200/200 [00:00<00:00, 244.10it/s]\n",
      " 26%|██▌       | 8/31 [03:09<09:47, 25.54s/it]"
     ]
    },
    {
     "name": "stdout",
     "output_type": "stream",
     "text": [
      "1600\n",
      "2006-02-28 00:00:00 2006-12-04 00:00:00\n"
     ]
    },
    {
     "name": "stderr",
     "output_type": "stream",
     "text": [
      "/tmp/ipykernel_12372/3885321339.py:27: FutureWarning: Not prepending group keys to the result index of transform-like apply. In the future, the group keys will be included in the index, regardless of whether the applied function returns a like-indexed object.\n",
      "To preserve the previous behavior, use\n",
      "\n",
      "\t>>> .groupby(..., group_keys=False)\n",
      "\n",
      "To adopt the future behavior and silence this warning, use \n",
      "\n",
      "\t>>> .groupby(..., group_keys=True)\n",
      "  res = ranks_pd.groupby(\"date\").apply(lambda df: apply_cut(df, feature_columns))\n",
      "100%|██████████| 200/200 [00:01<00:00, 186.76it/s]\n",
      " 29%|██▉       | 9/31 [03:37<09:35, 26.18s/it]"
     ]
    },
    {
     "name": "stdout",
     "output_type": "stream",
     "text": [
      "1800\n",
      "2006-12-05 00:00:00 2007-09-11 00:00:00\n"
     ]
    },
    {
     "name": "stderr",
     "output_type": "stream",
     "text": [
      "/tmp/ipykernel_12372/3885321339.py:27: FutureWarning: Not prepending group keys to the result index of transform-like apply. In the future, the group keys will be included in the index, regardless of whether the applied function returns a like-indexed object.\n",
      "To preserve the previous behavior, use\n",
      "\n",
      "\t>>> .groupby(..., group_keys=False)\n",
      "\n",
      "To adopt the future behavior and silence this warning, use \n",
      "\n",
      "\t>>> .groupby(..., group_keys=True)\n",
      "  res = ranks_pd.groupby(\"date\").apply(lambda df: apply_cut(df, feature_columns))\n",
      "100%|██████████| 200/200 [00:01<00:00, 151.71it/s]\n",
      " 32%|███▏      | 10/31 [04:04<09:16, 26.50s/it]"
     ]
    },
    {
     "name": "stdout",
     "output_type": "stream",
     "text": [
      "2000\n",
      "2007-09-12 00:00:00 2008-06-18 00:00:00\n"
     ]
    },
    {
     "name": "stderr",
     "output_type": "stream",
     "text": [
      "/tmp/ipykernel_12372/3885321339.py:27: FutureWarning: Not prepending group keys to the result index of transform-like apply. In the future, the group keys will be included in the index, regardless of whether the applied function returns a like-indexed object.\n",
      "To preserve the previous behavior, use\n",
      "\n",
      "\t>>> .groupby(..., group_keys=False)\n",
      "\n",
      "To adopt the future behavior and silence this warning, use \n",
      "\n",
      "\t>>> .groupby(..., group_keys=True)\n",
      "  res = ranks_pd.groupby(\"date\").apply(lambda df: apply_cut(df, feature_columns))\n",
      "100%|██████████| 200/200 [00:00<00:00, 242.32it/s]\n",
      " 35%|███▌      | 11/31 [04:31<08:49, 26.48s/it]"
     ]
    },
    {
     "name": "stdout",
     "output_type": "stream",
     "text": [
      "2200\n",
      "2008-06-19 00:00:00 2009-03-26 00:00:00\n"
     ]
    },
    {
     "name": "stderr",
     "output_type": "stream",
     "text": [
      "/tmp/ipykernel_12372/3885321339.py:27: FutureWarning: Not prepending group keys to the result index of transform-like apply. In the future, the group keys will be included in the index, regardless of whether the applied function returns a like-indexed object.\n",
      "To preserve the previous behavior, use\n",
      "\n",
      "\t>>> .groupby(..., group_keys=False)\n",
      "\n",
      "To adopt the future behavior and silence this warning, use \n",
      "\n",
      "\t>>> .groupby(..., group_keys=True)\n",
      "  res = ranks_pd.groupby(\"date\").apply(lambda df: apply_cut(df, feature_columns))\n",
      "100%|██████████| 200/200 [00:00<00:00, 247.91it/s]\n",
      " 39%|███▊      | 12/31 [04:56<08:16, 26.14s/it]"
     ]
    },
    {
     "name": "stdout",
     "output_type": "stream",
     "text": [
      "2400\n",
      "2009-03-27 00:00:00 2009-12-31 00:00:00\n"
     ]
    },
    {
     "name": "stderr",
     "output_type": "stream",
     "text": [
      "/tmp/ipykernel_12372/3885321339.py:27: FutureWarning: Not prepending group keys to the result index of transform-like apply. In the future, the group keys will be included in the index, regardless of whether the applied function returns a like-indexed object.\n",
      "To preserve the previous behavior, use\n",
      "\n",
      "\t>>> .groupby(..., group_keys=False)\n",
      "\n",
      "To adopt the future behavior and silence this warning, use \n",
      "\n",
      "\t>>> .groupby(..., group_keys=True)\n",
      "  res = ranks_pd.groupby(\"date\").apply(lambda df: apply_cut(df, feature_columns))\n",
      "100%|██████████| 200/200 [00:00<00:00, 232.70it/s]\n",
      " 42%|████▏     | 13/31 [05:22<07:46, 25.93s/it]"
     ]
    },
    {
     "name": "stdout",
     "output_type": "stream",
     "text": [
      "2600\n",
      "2010-01-04 00:00:00 2010-10-08 00:00:00\n"
     ]
    },
    {
     "name": "stderr",
     "output_type": "stream",
     "text": [
      "/tmp/ipykernel_12372/3885321339.py:27: FutureWarning: Not prepending group keys to the result index of transform-like apply. In the future, the group keys will be included in the index, regardless of whether the applied function returns a like-indexed object.\n",
      "To preserve the previous behavior, use\n",
      "\n",
      "\t>>> .groupby(..., group_keys=False)\n",
      "\n",
      "To adopt the future behavior and silence this warning, use \n",
      "\n",
      "\t>>> .groupby(..., group_keys=True)\n",
      "  res = ranks_pd.groupby(\"date\").apply(lambda df: apply_cut(df, feature_columns))\n",
      "100%|██████████| 200/200 [00:00<00:00, 240.75it/s]\n",
      " 45%|████▌     | 14/31 [05:48<07:23, 26.11s/it]"
     ]
    },
    {
     "name": "stdout",
     "output_type": "stream",
     "text": [
      "2800\n",
      "2010-10-11 00:00:00 2011-07-15 00:00:00\n"
     ]
    },
    {
     "name": "stderr",
     "output_type": "stream",
     "text": [
      "/tmp/ipykernel_12372/3885321339.py:27: FutureWarning: Not prepending group keys to the result index of transform-like apply. In the future, the group keys will be included in the index, regardless of whether the applied function returns a like-indexed object.\n",
      "To preserve the previous behavior, use\n",
      "\n",
      "\t>>> .groupby(..., group_keys=False)\n",
      "\n",
      "To adopt the future behavior and silence this warning, use \n",
      "\n",
      "\t>>> .groupby(..., group_keys=True)\n",
      "  res = ranks_pd.groupby(\"date\").apply(lambda df: apply_cut(df, feature_columns))\n",
      "100%|██████████| 200/200 [00:00<00:00, 237.13it/s]\n",
      " 48%|████▊     | 15/31 [06:15<06:59, 26.23s/it]"
     ]
    },
    {
     "name": "stdout",
     "output_type": "stream",
     "text": [
      "3000\n",
      "2011-07-18 00:00:00 2012-04-20 00:00:00\n"
     ]
    },
    {
     "name": "stderr",
     "output_type": "stream",
     "text": [
      "/tmp/ipykernel_12372/3885321339.py:27: FutureWarning: Not prepending group keys to the result index of transform-like apply. In the future, the group keys will be included in the index, regardless of whether the applied function returns a like-indexed object.\n",
      "To preserve the previous behavior, use\n",
      "\n",
      "\t>>> .groupby(..., group_keys=False)\n",
      "\n",
      "To adopt the future behavior and silence this warning, use \n",
      "\n",
      "\t>>> .groupby(..., group_keys=True)\n",
      "  res = ranks_pd.groupby(\"date\").apply(lambda df: apply_cut(df, feature_columns))\n",
      "100%|██████████| 200/200 [00:00<00:00, 234.16it/s]\n",
      " 52%|█████▏    | 16/31 [06:40<06:29, 25.99s/it]"
     ]
    },
    {
     "name": "stdout",
     "output_type": "stream",
     "text": [
      "3200\n",
      "2012-04-23 00:00:00 2013-01-28 00:00:00\n"
     ]
    },
    {
     "name": "stderr",
     "output_type": "stream",
     "text": [
      "/tmp/ipykernel_12372/3885321339.py:27: FutureWarning: Not prepending group keys to the result index of transform-like apply. In the future, the group keys will be included in the index, regardless of whether the applied function returns a like-indexed object.\n",
      "To preserve the previous behavior, use\n",
      "\n",
      "\t>>> .groupby(..., group_keys=False)\n",
      "\n",
      "To adopt the future behavior and silence this warning, use \n",
      "\n",
      "\t>>> .groupby(..., group_keys=True)\n",
      "  res = ranks_pd.groupby(\"date\").apply(lambda df: apply_cut(df, feature_columns))\n",
      "100%|██████████| 200/200 [00:01<00:00, 160.73it/s]\n",
      " 55%|█████▍    | 17/31 [07:07<06:06, 26.15s/it]"
     ]
    },
    {
     "name": "stdout",
     "output_type": "stream",
     "text": [
      "3400\n",
      "2013-01-29 00:00:00 2013-11-04 00:00:00\n"
     ]
    },
    {
     "name": "stderr",
     "output_type": "stream",
     "text": [
      "/tmp/ipykernel_12372/3885321339.py:27: FutureWarning: Not prepending group keys to the result index of transform-like apply. In the future, the group keys will be included in the index, regardless of whether the applied function returns a like-indexed object.\n",
      "To preserve the previous behavior, use\n",
      "\n",
      "\t>>> .groupby(..., group_keys=False)\n",
      "\n",
      "To adopt the future behavior and silence this warning, use \n",
      "\n",
      "\t>>> .groupby(..., group_keys=True)\n",
      "  res = ranks_pd.groupby(\"date\").apply(lambda df: apply_cut(df, feature_columns))\n",
      "100%|██████████| 200/200 [00:00<00:00, 211.30it/s]\n",
      " 58%|█████▊    | 18/31 [07:35<05:48, 26.82s/it]"
     ]
    },
    {
     "name": "stdout",
     "output_type": "stream",
     "text": [
      "3600\n",
      "2013-11-05 00:00:00 2014-08-12 00:00:00\n"
     ]
    },
    {
     "name": "stderr",
     "output_type": "stream",
     "text": [
      "/tmp/ipykernel_12372/3885321339.py:27: FutureWarning: Not prepending group keys to the result index of transform-like apply. In the future, the group keys will be included in the index, regardless of whether the applied function returns a like-indexed object.\n",
      "To preserve the previous behavior, use\n",
      "\n",
      "\t>>> .groupby(..., group_keys=False)\n",
      "\n",
      "To adopt the future behavior and silence this warning, use \n",
      "\n",
      "\t>>> .groupby(..., group_keys=True)\n",
      "  res = ranks_pd.groupby(\"date\").apply(lambda df: apply_cut(df, feature_columns))\n",
      "100%|██████████| 200/200 [00:01<00:00, 171.96it/s]\n",
      " 61%|██████▏   | 19/31 [08:02<05:23, 26.97s/it]"
     ]
    },
    {
     "name": "stdout",
     "output_type": "stream",
     "text": [
      "3800\n",
      "2014-08-13 00:00:00 2015-05-20 00:00:00\n"
     ]
    },
    {
     "name": "stderr",
     "output_type": "stream",
     "text": [
      "/tmp/ipykernel_12372/3885321339.py:27: FutureWarning: Not prepending group keys to the result index of transform-like apply. In the future, the group keys will be included in the index, regardless of whether the applied function returns a like-indexed object.\n",
      "To preserve the previous behavior, use\n",
      "\n",
      "\t>>> .groupby(..., group_keys=False)\n",
      "\n",
      "To adopt the future behavior and silence this warning, use \n",
      "\n",
      "\t>>> .groupby(..., group_keys=True)\n",
      "  res = ranks_pd.groupby(\"date\").apply(lambda df: apply_cut(df, feature_columns))\n",
      "100%|██████████| 200/200 [00:01<00:00, 162.42it/s]\n",
      " 65%|██████▍   | 20/31 [08:29<04:56, 26.99s/it]"
     ]
    },
    {
     "name": "stdout",
     "output_type": "stream",
     "text": [
      "4000\n",
      "2015-05-21 00:00:00 2016-02-25 00:00:00\n"
     ]
    },
    {
     "name": "stderr",
     "output_type": "stream",
     "text": [
      "/tmp/ipykernel_12372/3885321339.py:27: FutureWarning: Not prepending group keys to the result index of transform-like apply. In the future, the group keys will be included in the index, regardless of whether the applied function returns a like-indexed object.\n",
      "To preserve the previous behavior, use\n",
      "\n",
      "\t>>> .groupby(..., group_keys=False)\n",
      "\n",
      "To adopt the future behavior and silence this warning, use \n",
      "\n",
      "\t>>> .groupby(..., group_keys=True)\n",
      "  res = ranks_pd.groupby(\"date\").apply(lambda df: apply_cut(df, feature_columns))\n",
      "100%|██████████| 200/200 [00:01<00:00, 163.43it/s]\n",
      " 68%|██████▊   | 21/31 [08:57<04:30, 27.07s/it]"
     ]
    },
    {
     "name": "stdout",
     "output_type": "stream",
     "text": [
      "4200\n",
      "2016-02-26 00:00:00 2016-12-01 00:00:00\n"
     ]
    },
    {
     "name": "stderr",
     "output_type": "stream",
     "text": [
      "/tmp/ipykernel_12372/3885321339.py:27: FutureWarning: Not prepending group keys to the result index of transform-like apply. In the future, the group keys will be included in the index, regardless of whether the applied function returns a like-indexed object.\n",
      "To preserve the previous behavior, use\n",
      "\n",
      "\t>>> .groupby(..., group_keys=False)\n",
      "\n",
      "To adopt the future behavior and silence this warning, use \n",
      "\n",
      "\t>>> .groupby(..., group_keys=True)\n",
      "  res = ranks_pd.groupby(\"date\").apply(lambda df: apply_cut(df, feature_columns))\n",
      "100%|██████████| 200/200 [00:01<00:00, 162.10it/s]\n",
      " 71%|███████   | 22/31 [09:24<04:04, 27.20s/it]"
     ]
    },
    {
     "name": "stdout",
     "output_type": "stream",
     "text": [
      "4400\n",
      "2016-12-02 00:00:00 2017-09-07 00:00:00\n"
     ]
    },
    {
     "name": "stderr",
     "output_type": "stream",
     "text": [
      "/tmp/ipykernel_12372/3885321339.py:27: FutureWarning: Not prepending group keys to the result index of transform-like apply. In the future, the group keys will be included in the index, regardless of whether the applied function returns a like-indexed object.\n",
      "To preserve the previous behavior, use\n",
      "\n",
      "\t>>> .groupby(..., group_keys=False)\n",
      "\n",
      "To adopt the future behavior and silence this warning, use \n",
      "\n",
      "\t>>> .groupby(..., group_keys=True)\n",
      "  res = ranks_pd.groupby(\"date\").apply(lambda df: apply_cut(df, feature_columns))\n",
      "100%|██████████| 200/200 [00:02<00:00, 88.08it/s] \n",
      " 74%|███████▍  | 23/31 [09:54<03:43, 27.90s/it]"
     ]
    },
    {
     "name": "stdout",
     "output_type": "stream",
     "text": [
      "4600\n",
      "2017-09-08 00:00:00 2018-06-15 00:00:00\n"
     ]
    },
    {
     "name": "stderr",
     "output_type": "stream",
     "text": [
      "/tmp/ipykernel_12372/3885321339.py:27: FutureWarning: Not prepending group keys to the result index of transform-like apply. In the future, the group keys will be included in the index, regardless of whether the applied function returns a like-indexed object.\n",
      "To preserve the previous behavior, use\n",
      "\n",
      "\t>>> .groupby(..., group_keys=False)\n",
      "\n",
      "To adopt the future behavior and silence this warning, use \n",
      "\n",
      "\t>>> .groupby(..., group_keys=True)\n",
      "  res = ranks_pd.groupby(\"date\").apply(lambda df: apply_cut(df, feature_columns))\n",
      "100%|██████████| 200/200 [00:01<00:00, 145.44it/s]\n",
      " 77%|███████▋  | 24/31 [10:29<03:30, 30.10s/it]"
     ]
    },
    {
     "name": "stdout",
     "output_type": "stream",
     "text": [
      "4800\n",
      "2018-06-18 00:00:00 2019-03-25 00:00:00\n"
     ]
    },
    {
     "name": "stderr",
     "output_type": "stream",
     "text": [
      "/tmp/ipykernel_12372/3885321339.py:27: FutureWarning: Not prepending group keys to the result index of transform-like apply. In the future, the group keys will be included in the index, regardless of whether the applied function returns a like-indexed object.\n",
      "To preserve the previous behavior, use\n",
      "\n",
      "\t>>> .groupby(..., group_keys=False)\n",
      "\n",
      "To adopt the future behavior and silence this warning, use \n",
      "\n",
      "\t>>> .groupby(..., group_keys=True)\n",
      "  res = ranks_pd.groupby(\"date\").apply(lambda df: apply_cut(df, feature_columns))\n",
      "100%|██████████| 200/200 [00:01<00:00, 150.20it/s]\n",
      " 81%|████████  | 25/31 [10:59<03:01, 30.21s/it]"
     ]
    },
    {
     "name": "stdout",
     "output_type": "stream",
     "text": [
      "5000\n",
      "2019-03-26 00:00:00 2019-12-30 00:00:00\n"
     ]
    },
    {
     "name": "stderr",
     "output_type": "stream",
     "text": [
      "/tmp/ipykernel_12372/3885321339.py:27: FutureWarning: Not prepending group keys to the result index of transform-like apply. In the future, the group keys will be included in the index, regardless of whether the applied function returns a like-indexed object.\n",
      "To preserve the previous behavior, use\n",
      "\n",
      "\t>>> .groupby(..., group_keys=False)\n",
      "\n",
      "To adopt the future behavior and silence this warning, use \n",
      "\n",
      "\t>>> .groupby(..., group_keys=True)\n",
      "  res = ranks_pd.groupby(\"date\").apply(lambda df: apply_cut(df, feature_columns))\n",
      "100%|██████████| 200/200 [00:01<00:00, 151.26it/s]\n",
      " 84%|████████▍ | 26/31 [11:29<02:30, 30.06s/it]"
     ]
    },
    {
     "name": "stdout",
     "output_type": "stream",
     "text": [
      "5200\n",
      "2019-12-31 00:00:00 2020-10-06 00:00:00\n"
     ]
    },
    {
     "name": "stderr",
     "output_type": "stream",
     "text": [
      "/tmp/ipykernel_12372/3885321339.py:27: FutureWarning: Not prepending group keys to the result index of transform-like apply. In the future, the group keys will be included in the index, regardless of whether the applied function returns a like-indexed object.\n",
      "To preserve the previous behavior, use\n",
      "\n",
      "\t>>> .groupby(..., group_keys=False)\n",
      "\n",
      "To adopt the future behavior and silence this warning, use \n",
      "\n",
      "\t>>> .groupby(..., group_keys=True)\n",
      "  res = ranks_pd.groupby(\"date\").apply(lambda df: apply_cut(df, feature_columns))\n",
      "100%|██████████| 200/200 [00:01<00:00, 149.09it/s]\n",
      " 87%|████████▋ | 27/31 [11:59<02:00, 30.20s/it]"
     ]
    },
    {
     "name": "stdout",
     "output_type": "stream",
     "text": [
      "5400\n",
      "2020-10-07 00:00:00 2021-07-14 00:00:00\n"
     ]
    },
    {
     "name": "stderr",
     "output_type": "stream",
     "text": [
      "/tmp/ipykernel_12372/3885321339.py:27: FutureWarning: Not prepending group keys to the result index of transform-like apply. In the future, the group keys will be included in the index, regardless of whether the applied function returns a like-indexed object.\n",
      "To preserve the previous behavior, use\n",
      "\n",
      "\t>>> .groupby(..., group_keys=False)\n",
      "\n",
      "To adopt the future behavior and silence this warning, use \n",
      "\n",
      "\t>>> .groupby(..., group_keys=True)\n",
      "  res = ranks_pd.groupby(\"date\").apply(lambda df: apply_cut(df, feature_columns))\n",
      "100%|██████████| 200/200 [00:01<00:00, 149.20it/s]\n",
      " 90%|█████████ | 28/31 [12:30<01:31, 30.43s/it]"
     ]
    },
    {
     "name": "stdout",
     "output_type": "stream",
     "text": [
      "5600\n",
      "2021-07-15 00:00:00 2022-04-20 00:00:00\n"
     ]
    },
    {
     "name": "stderr",
     "output_type": "stream",
     "text": [
      "/tmp/ipykernel_12372/3885321339.py:27: FutureWarning: Not prepending group keys to the result index of transform-like apply. In the future, the group keys will be included in the index, regardless of whether the applied function returns a like-indexed object.\n",
      "To preserve the previous behavior, use\n",
      "\n",
      "\t>>> .groupby(..., group_keys=False)\n",
      "\n",
      "To adopt the future behavior and silence this warning, use \n",
      "\n",
      "\t>>> .groupby(..., group_keys=True)\n",
      "  res = ranks_pd.groupby(\"date\").apply(lambda df: apply_cut(df, feature_columns))\n",
      "100%|██████████| 200/200 [00:01<00:00, 149.04it/s]\n",
      " 94%|█████████▎| 29/31 [13:01<01:01, 30.50s/it]"
     ]
    },
    {
     "name": "stdout",
     "output_type": "stream",
     "text": [
      "5800\n",
      "2022-04-21 00:00:00 2023-01-25 00:00:00\n"
     ]
    },
    {
     "name": "stderr",
     "output_type": "stream",
     "text": [
      "/tmp/ipykernel_12372/3885321339.py:27: FutureWarning: Not prepending group keys to the result index of transform-like apply. In the future, the group keys will be included in the index, regardless of whether the applied function returns a like-indexed object.\n",
      "To preserve the previous behavior, use\n",
      "\n",
      "\t>>> .groupby(..., group_keys=False)\n",
      "\n",
      "To adopt the future behavior and silence this warning, use \n",
      "\n",
      "\t>>> .groupby(..., group_keys=True)\n",
      "  res = ranks_pd.groupby(\"date\").apply(lambda df: apply_cut(df, feature_columns))\n",
      "100%|██████████| 200/200 [00:01<00:00, 152.13it/s]\n",
      " 97%|█████████▋| 30/31 [13:31<00:30, 30.33s/it]"
     ]
    },
    {
     "name": "stdout",
     "output_type": "stream",
     "text": [
      "6000\n",
      "2023-01-26 00:00:00 2023-07-07 00:00:00\n"
     ]
    },
    {
     "name": "stderr",
     "output_type": "stream",
     "text": [
      "/tmp/ipykernel_12372/3885321339.py:27: FutureWarning: Not prepending group keys to the result index of transform-like apply. In the future, the group keys will be included in the index, regardless of whether the applied function returns a like-indexed object.\n",
      "To preserve the previous behavior, use\n",
      "\n",
      "\t>>> .groupby(..., group_keys=False)\n",
      "\n",
      "To adopt the future behavior and silence this warning, use \n",
      "\n",
      "\t>>> .groupby(..., group_keys=True)\n",
      "  res = ranks_pd.groupby(\"date\").apply(lambda df: apply_cut(df, feature_columns))\n",
      "100%|██████████| 117/117 [00:00<00:00, 145.57it/s]\n",
      "100%|██████████| 31/31 [13:49<00:00, 26.77s/it]\n"
     ]
    }
   ],
   "source": [
    "dates = read_available_dates(DAILY_SECONDARY_FEATURES_DIR)\n",
    "\n",
    "start_index = len(dates) - 1000 if not FROM_SCRATCH else 0\n",
    "\n",
    "# iterate over all dates in chunks of 200\n",
    "for i in tqdm(range(start_index, len(dates), 200)):\n",
    "    print(i)\n",
    "    _tmp = load_recent_data_from_file(\n",
    "        DAILY_SECONDARY_FEATURES_DIR,\n",
    "        n_days=200,\n",
    "        ascending=True,\n",
    "        offset=i,\n",
    "        dtype=\"float32\",\n",
    "    )\n",
    "    # print max and min date\n",
    "    print(_tmp[\"date\"].min(), _tmp[\"date\"].max())\n",
    "    _tmp = _tmp.reset_index(drop=True)\n",
    "    _tmp = _tmp.sort_values([\"date\", \"bloomberg_ticker\"])\n",
    "    _tmp = _tmp.groupby(\"date\").filter(lambda x: len(x) > 10)\n",
    "\n",
    "    # get all feature columns\n",
    "    feature_columns = [f for f in _tmp.columns if f.startswith(\"feature_\")]\n",
    "\n",
    "    # apply cut\n",
    "    res = apply_cut_cpu(_tmp, feature_columns)\n",
    "\n",
    "    # save\n",
    "    save_in_folders(res, DAILY_SCALED_FEATURES_DIR)\n",
    "\n",
    "    #del _tmp, res\n",
    "    gc.collect()\n",
    "    "
   ]
  },
  {
   "cell_type": "code",
   "execution_count": null,
   "metadata": {},
   "outputs": [],
   "source": []
  },
  {
   "cell_type": "code",
   "execution_count": null,
   "metadata": {},
   "outputs": [],
   "source": []
  }
 ],
 "metadata": {
  "kernelspec": {
   "display_name": "rapids",
   "language": "python",
   "name": "python3"
  },
  "language_info": {
   "codemirror_mode": {
    "name": "ipython",
    "version": 3
   },
   "file_extension": ".py",
   "mimetype": "text/x-python",
   "name": "python",
   "nbconvert_exporter": "python",
   "pygments_lexer": "ipython3",
   "version": "3.8.16"
  },
  "orig_nbformat": 4
 },
 "nbformat": 4,
 "nbformat_minor": 2
}
