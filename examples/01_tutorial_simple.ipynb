{
 "cells": [
  {
   "cell_type": "code",
   "execution_count": 1,
   "metadata": {},
   "outputs": [],
   "source": [
    "from signalslite.data_downloader import update_daily_data\n",
    "from signalslite.primary_features import generate_primary_features\n",
    "from signalslite.secondary_features import update_secondary_features\n",
    "from signalslite.scale_data import scale_data\n",
    "from signalslite.merge_targets import prepare_merged_data\n",
    "from signalslite.constants import Directories\n"
   ]
  },
  {
   "cell_type": "code",
   "execution_count": 2,
   "metadata": {},
   "outputs": [],
   "source": [
    "from signalslite.credentials import EODHD_API_KEY"
   ]
  },
  {
   "cell_type": "code",
   "execution_count": null,
   "metadata": {},
   "outputs": [],
   "source": [
    "if __name__ == \"__main__\":\n",
    "    dir_config = Directories()\n",
    "    dir_config.set_data_dir(\"../data\")\n",
    "\n",
    "    print(dir_config)\n",
    "    # update_daily_data(dir_config.DATA_DIR, dir_config.DAILY_DATA_DIR, EODHD_API_KEY=EODHD_API_KEY)\n",
    "    # generate_primary_features(dir_config)\n",
    "    # update_secondary_features(dir_config)\n",
    "    # scale_data(dir_config, FROM_SCRATCH=False)\n",
    "    prepare_merged_data(dir_config)\n"
   ]
  },
  {
   "cell_type": "code",
   "execution_count": null,
   "metadata": {},
   "outputs": [],
   "source": []
  },
  {
   "cell_type": "code",
   "execution_count": null,
   "metadata": {},
   "outputs": [],
   "source": []
  },
  {
   "cell_type": "code",
   "execution_count": null,
   "metadata": {},
   "outputs": [],
   "source": []
  }
 ],
 "metadata": {
  "kernelspec": {
   "display_name": "rapids",
   "language": "python",
   "name": "python3"
  },
  "language_info": {
   "codemirror_mode": {
    "name": "ipython",
    "version": 3
   },
   "file_extension": ".py",
   "mimetype": "text/x-python",
   "name": "python",
   "nbconvert_exporter": "python",
   "pygments_lexer": "ipython3",
   "version": "3.8.16"
  },
  "orig_nbformat": 4
 },
 "nbformat": 4,
 "nbformat_minor": 2
}
