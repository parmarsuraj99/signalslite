{
 "cells": [
  {
   "cell_type": "code",
   "execution_count": 1,
   "metadata": {},
   "outputs": [],
   "source": [
    "from signalslite.data_downloader import update_daily_data\n",
    "from signalslite.primary_features import generate_primary_features\n",
    "from signalslite.secondary_features import update_secondary_features\n",
    "from signalslite.scale_data import scale_data\n",
    "from signalslite.merge_targets import prepare_merged_data\n",
    "from signalslite.constants import Directories"
   ]
  },
  {
   "cell_type": "code",
   "execution_count": 2,
   "metadata": {},
   "outputs": [
    {
     "name": "stdout",
     "output_type": "stream",
     "text": [
      "<signalslite.constants.Directories object at 0x7f7ce16718b0>\n",
      "Today date: 2023-08-16\n",
      "Latest date: 2000-01-01\n",
      "download_all, tickers:13574\n"
     ]
    },
    {
     "name": "stderr",
     "output_type": "stream",
     "text": [
      "100%|██████████| 13574/13574 [00:00<00:00, 28354.40it/s]\n"
     ]
    },
    {
     "name": "stdout",
     "output_type": "stream",
     "text": [
      "download_all, futures:13574\n"
     ]
    },
    {
     "name": "stderr",
     "output_type": "stream",
     "text": [
      " 13%|█▎        | 1759/13574 [11:25<50:41,  3.89it/s]  "
     ]
    }
   ],
   "source": [
    "if __name__ == \"__main__\":\n",
    "    dir_config = Directories()\n",
    "    dir_config.set_data_dir(\"data\")\n",
    "\n",
    "    print(dir_config)\n",
    "    # update_daily_data(dir_config.DATA_DIR, dir_config.DAILY_DATA_DIR, n_jobs=-1, dividends_and_splits=False)\n",
    "    generate_primary_features(dir_config)\n",
    "    update_secondary_features(dir_config)\n",
    "    scale_data(dir_config, FROM_SCRATCH=False)\n",
    "    prepare_merged_data(dir_config)"
   ]
  },
  {
   "cell_type": "code",
   "execution_count": null,
   "metadata": {},
   "outputs": [],
   "source": []
  },
  {
   "cell_type": "code",
   "execution_count": null,
   "metadata": {},
   "outputs": [],
   "source": []
  }
 ],
 "metadata": {
  "kernelspec": {
   "display_name": "rapids",
   "language": "python",
   "name": "python3"
  },
  "language_info": {
   "codemirror_mode": {
    "name": "ipython",
    "version": 3
   },
   "file_extension": ".py",
   "mimetype": "text/x-python",
   "name": "python",
   "nbconvert_exporter": "python",
   "pygments_lexer": "ipython3",
   "version": "3.8.16"
  },
  "orig_nbformat": 4
 },
 "nbformat": 4,
 "nbformat_minor": 2
}
